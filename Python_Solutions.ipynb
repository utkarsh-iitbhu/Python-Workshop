{
  "nbformat": 4,
  "nbformat_minor": 0,
  "metadata": {
    "colab": {
      "name": "python_solutions.ipynb",
      "provenance": [],
      "collapsed_sections": []
    },
    "kernelspec": {
      "name": "python3",
      "display_name": "Python 3"
    },
    "language_info": {
      "name": "python"
    }
  },
  "cells": [
    {
      "cell_type": "code",
      "execution_count": null,
      "metadata": {
        "id": "R3sdl8xAWkNi"
      },
      "outputs": [],
      "source": [
        "def power(a,b):\n",
        "    \n",
        "    # ** What is 7 to the power of 4?**\n",
        "    \n",
        "    return (a**b)\n"
      ]
    },
    {
      "cell_type": "code",
      "source": [
        "out= power(7,4)\n",
        "print(out)"
      ],
      "metadata": {
        "colab": {
          "base_uri": "https://localhost:8080/"
        },
        "id": "-TF4wt2FbTFG",
        "outputId": "7887a2f3-bf34-4e5c-ada2-9bcc62010abb"
      },
      "execution_count": null,
      "outputs": [
        {
          "output_type": "stream",
          "name": "stdout",
          "text": [
            "2401\n"
          ]
        }
      ]
    },
    {
      "cell_type": "code",
      "source": [
        "def split_str(s):\n",
        "    \n",
        "    # ** Split this string:**\n",
        "     \n",
        "#     s = \"Hi there Sam!\"\n",
        "     \n",
        "# **into a list. **\n",
        "\n",
        "    return list(s.split())"
      ],
      "metadata": {
        "id": "dnK6fElZbgb2"
      },
      "execution_count": null,
      "outputs": []
    },
    {
      "cell_type": "code",
      "source": [
        "s1= split_str( \"Hi there Sam!\")\n",
        "print(s1)"
      ],
      "metadata": {
        "colab": {
          "base_uri": "https://localhost:8080/"
        },
        "id": "5_t8VrZuc3Xx",
        "outputId": "95152711-806c-472e-eae9-daadb67dbe6b"
      },
      "execution_count": null,
      "outputs": [
        {
          "output_type": "stream",
          "name": "stdout",
          "text": [
            "['Hi', 'there', 'Sam!']\n"
          ]
        }
      ]
    },
    {
      "cell_type": "code",
      "source": [
        "def format(planet,diameter):\n",
        "  return (\"The diameter of {} is {} kilometers\".format(planet,diameter))"
      ],
      "metadata": {
        "id": "s0HCFM4sdFlu"
      },
      "execution_count": null,
      "outputs": []
    },
    {
      "cell_type": "code",
      "source": [
        "planet=\"earth\"\n",
        "diameter = 12742\n",
        "print(format(planet,diameter))\n"
      ],
      "metadata": {
        "colab": {
          "base_uri": "https://localhost:8080/"
        },
        "id": "wUGQ3U3gdkha",
        "outputId": "05a66073-4f6b-41de-e7f5-d250bccb186c"
      },
      "execution_count": null,
      "outputs": [
        {
          "output_type": "stream",
          "name": "stdout",
          "text": [
            "The diameter of earth is 12742 kilometers\n"
          ]
        }
      ]
    },
    {
      "cell_type": "code",
      "source": [
        "def indexing(lst):\n",
        "\n",
        "# ** Given this nested list, use indexing to grab the word \"hello\" **\n",
        "# solution:\n",
        "  return lst[3][1][2][0]\n",
        " "
      ],
      "metadata": {
        "id": "pSMlrbCBf56R"
      },
      "execution_count": null,
      "outputs": []
    },
    {
      "cell_type": "code",
      "source": [
        "lst= [1,2,[3,4],[5,[100,200,['hello']],23,11],1,7]\n",
        "print(indexing(lst))\n",
        "\n",
        "\n"
      ],
      "metadata": {
        "colab": {
          "base_uri": "https://localhost:8080/"
        },
        "id": "OTXL-cSDhCYA",
        "outputId": "595cac7d-2ec9-4198-d423-23cb4b913abc"
      },
      "execution_count": null,
      "outputs": [
        {
          "output_type": "stream",
          "name": "stdout",
          "text": [
            "hello\n"
          ]
        }
      ]
    },
    {
      "cell_type": "code",
      "source": [
        "def dictionary(d):                                                                               \n",
        "# ** Given this nested dictionary grab the word \"hello\". Be prepared, this will be annoying/tricky **\n",
        "\n",
        " \n",
        " # solution :\n",
        " return d['k1'][3]['tricky'][3]['target'][3]\n"
      ],
      "metadata": {
        "id": "RE2Quo_Cj1VO"
      },
      "execution_count": null,
      "outputs": []
    },
    {
      "cell_type": "code",
      "source": [
        "d = {'k1':[1,2,3,{'tricky':['oh','man','inception',{'target':[1,2,3,'hello']}]}]}\n",
        "print(dictionary(d))"
      ],
      "metadata": {
        "colab": {
          "base_uri": "https://localhost:8080/"
        },
        "id": "qm5FDf_Mj68b",
        "outputId": "43d06e62-f208-4d13-94b8-8b43c6922c42"
      },
      "execution_count": null,
      "outputs": [
        {
          "output_type": "stream",
          "name": "stdout",
          "text": [
            "hello\n"
          ]
        }
      ]
    },
    {
      "cell_type": "code",
      "source": [
        "def subjective():\n",
        "\n",
        "# ** What is the main difference between a tuple and a list? **\n",
        "# Tuple is immutable \n",
        "#whereas list are mutable meaning the items can be changed \n",
        "\n",
        "    return None"
      ],
      "metadata": {
        "id": "K_rt34-dkLyP"
      },
      "execution_count": null,
      "outputs": []
    },
    {
      "cell_type": "code",
      "source": [
        "def domainGet(email):\n",
        "    \n",
        "    # ** Create a function that grabs the email website domain from a string in the form: **\n",
        "# \n",
        "#     user@domain.com\n",
        "#     \n",
        "# **So for example, passing \"user@domain.com\" would return: domain.com**\n",
        "  k = email.index(\"@\")\n",
        "  return email[k+1:]\n",
        "  \n",
        "\n"
      ],
      "metadata": {
        "id": "qcKssGKXkbol"
      },
      "execution_count": null,
      "outputs": []
    },
    {
      "cell_type": "code",
      "source": [
        "s = 'user@domain.com'\n",
        "print(domainGet(s))"
      ],
      "metadata": {
        "colab": {
          "base_uri": "https://localhost:8080/"
        },
        "id": "hOq_5hdumghr",
        "outputId": "22484261-d22d-423c-dbaa-2471ccc36c87"
      },
      "execution_count": null,
      "outputs": [
        {
          "output_type": "stream",
          "name": "stdout",
          "text": [
            "domain.com\n"
          ]
        }
      ]
    },
    {
      "cell_type": "code",
      "source": [
        "#or another method \n",
        "def DomainGet(email):\n",
        "\n",
        "   \n",
        "  return  email.split(\"@\")[1]"
      ],
      "metadata": {
        "id": "VlHEKu0hm83P"
      },
      "execution_count": null,
      "outputs": []
    },
    {
      "cell_type": "code",
      "source": [
        "e = \"user@domain.com\"\n",
        "print(DomainGet(e))"
      ],
      "metadata": {
        "colab": {
          "base_uri": "https://localhost:8080/"
        },
        "id": "t90vfcJdnW-S",
        "outputId": "808059ff-0ed4-41df-f7fc-98ff473900b0"
      },
      "execution_count": null,
      "outputs": [
        {
          "output_type": "stream",
          "name": "stdout",
          "text": [
            "domain.com\n"
          ]
        }
      ]
    },
    {
      "cell_type": "code",
      "source": [
        "\n",
        "def findDog(st):\n",
        "    \n",
        "# ** Create a basic function that returns True if the word 'dog' is contained in the input string. Don't worry about edge cases like a punctuation being attached to the word dog, but do account for capitalization. **\n",
        "  \n",
        "  if(\"dog\" in st):\n",
        "    return True\n",
        "  else:\n",
        "    return False\n",
        "\n",
        "      \n",
        "    \n",
        "  \n",
        "  \n",
        "     "
      ],
      "metadata": {
        "id": "qgc1ewHroSx8"
      },
      "execution_count": null,
      "outputs": []
    },
    {
      "cell_type": "code",
      "source": [
        "findDog(\"this is cute dog\")"
      ],
      "metadata": {
        "colab": {
          "base_uri": "https://localhost:8080/"
        },
        "id": "o4tuWeVtrN91",
        "outputId": "0e084665-85bd-4fee-cfa2-e1c72676c361"
      },
      "execution_count": null,
      "outputs": [
        {
          "output_type": "execute_result",
          "data": {
            "text/plain": [
              "True"
            ]
          },
          "metadata": {},
          "execution_count": 113
        }
      ]
    },
    {
      "cell_type": "code",
      "source": [
        "\n",
        "\n",
        "def countDog(st):\n",
        "\n",
        "  return(len(list(filter(lambda item: item == \"dog\" , st.split()))))\n",
        "      \n",
        "    # ** Create a function that counts the number of times the word \"dog\" occurs in a string. Again ignore edge cases. **\n",
        "        \n",
        "\n",
        "       \n"
      ],
      "metadata": {
        "id": "LamS8ulCwA_X"
      },
      "execution_count": null,
      "outputs": []
    },
    {
      "cell_type": "code",
      "source": [
        "st = \" the  dog car is dog cool  is the full dog\"\n",
        "print(countDog(st))"
      ],
      "metadata": {
        "colab": {
          "base_uri": "https://localhost:8080/"
        },
        "id": "lHiXsN0ofSlQ",
        "outputId": "b5ffe915-dd13-40ec-b409-b3bf7f438d9c"
      },
      "execution_count": null,
      "outputs": [
        {
          "output_type": "stream",
          "name": "stdout",
          "text": [
            "3\n"
          ]
        }
      ]
    },
    {
      "cell_type": "code",
      "source": [
        "# Another method \n",
        "#for Create a function that counts the number of times the word \"dog\" occurs in a string. Again ignore edge cases\n",
        "def CountDog(pt):\n",
        "      m=0\n",
        "      for i in range(len(pt)):\n",
        "    # ** Create a function that counts the number of times the word \"dog\" occurs in a string. Again ignore edge cases. **\n",
        "         if (pt[i] == 'd'and pt [i+1]== 'o'and pt [i+2]=='g'):\n",
        "          m+=1\n",
        "      return m\n"
      ],
      "metadata": {
        "id": "UhFIPO9rfUPh"
      },
      "execution_count": null,
      "outputs": []
    },
    {
      "cell_type": "code",
      "source": [
        "pt = \"this is   a cute dog, i love this dog \"\n",
        "print(CountDog(pt))"
      ],
      "metadata": {
        "colab": {
          "base_uri": "https://localhost:8080/"
        },
        "id": "_1JIHEG3000y",
        "outputId": "21a20a17-6d7c-4c04-b194-7287900e547c"
      },
      "execution_count": null,
      "outputs": [
        {
          "output_type": "stream",
          "name": "stdout",
          "text": [
            "2\n"
          ]
        }
      ]
    },
    {
      "cell_type": "code",
      "source": [
        "def lambdafunc(seq):\n",
        "    \n",
        "    # ** Use lambda expressions and the filter() function to filter out words from a list that don't start with the letter 's'. For example:**\n",
        "# \n",
        "#     seq = ['soup','dog','salad','cat','great']\n",
        "  l =list(filter(lambda item: item[0] == \"s\",seq))\n",
        "  return (l)\n",
        "# **should be filtered down to:**\n",
        "# \n",
        "#     ['soup','salad']\n",
        " "
      ],
      "metadata": {
        "id": "eOcFaHkZ1fEq"
      },
      "execution_count": null,
      "outputs": []
    },
    {
      "cell_type": "code",
      "source": [
        "seq = ['soup','dog','salad','cat','great']\n",
        "print(lambdafunc(seq))"
      ],
      "metadata": {
        "colab": {
          "base_uri": "https://localhost:8080/"
        },
        "id": "S-yTG0zg2S4F",
        "outputId": "89f99797-bf46-435f-dda8-9e0b293f2220"
      },
      "execution_count": null,
      "outputs": [
        {
          "output_type": "stream",
          "name": "stdout",
          "text": [
            "['soup', 'salad']\n"
          ]
        }
      ]
    },
    {
      "cell_type": "code",
      "source": [
        "def caught_speeding(speed, is_birthday):\n",
        "  if(is_birthday==True):\n",
        "        i = 5\n",
        "\n",
        "  else:\n",
        "        i = 0\n",
        "\n",
        "  if(speed<=60+i):\n",
        "        return \"No Ticket\"\n",
        "\n",
        "  elif(speed>=61+i and speed<=80+i):\n",
        "        return \"Small Ticket\"\n",
        "\n",
        "  elif(speed>=81+i):\n",
        "        return \"Big Ticket\""
      ],
      "metadata": {
        "id": "p8GZKG7C79gb"
      },
      "execution_count": null,
      "outputs": []
    },
    {
      "cell_type": "code",
      "source": [
        "#example\n",
        "print(caught_speeding(62, True))"
      ],
      "metadata": {
        "colab": {
          "base_uri": "https://localhost:8080/"
        },
        "id": "MzOL0OJm8dCc",
        "outputId": "1729fd53-849a-475b-8290-6cd99abba482"
      },
      "execution_count": null,
      "outputs": [
        {
          "output_type": "stream",
          "name": "stdout",
          "text": [
            "No Ticket\n"
          ]
        }
      ]
    },
    {
      "cell_type": "markdown",
      "source": [
        "# numpy part\n"
      ],
      "metadata": {
        "id": "6-syaUDY849Q"
      }
    },
    {
      "cell_type": "code",
      "source": [
        "!pip install numpy\n",
        "import numpy as np\n"
      ],
      "metadata": {
        "id": "cZcw40DQ8x_s",
        "colab": {
          "base_uri": "https://localhost:8080/"
        },
        "outputId": "aadd1937-c5d9-4e03-df12-0ef3f6de75d5"
      },
      "execution_count": 155,
      "outputs": [
        {
          "output_type": "stream",
          "name": "stdout",
          "text": [
            "Requirement already satisfied: numpy in /usr/local/lib/python3.7/dist-packages (1.19.5)\n"
          ]
        }
      ]
    },
    {
      "cell_type": "code",
      "source": [
        "def create_arr_of_fives():\n",
        "\n",
        "  #### Create an array of 10 fives\n",
        "  #### Convert your output into list \n",
        "  arr = np.array([5,5,5,5,5,5,5,5,5,5])\n",
        "  #### e.g return list(arr) \n",
        "\n",
        "  return list(arr)"
      ],
      "metadata": {
        "id": "pcUs-qdBCdho"
      },
      "execution_count": 141,
      "outputs": []
    },
    {
      "cell_type": "code",
      "source": [
        "print(create_arr_of_fives())"
      ],
      "metadata": {
        "colab": {
          "base_uri": "https://localhost:8080/"
        },
        "id": "6b8TBLPvNHwk",
        "outputId": "a54687fd-1202-45a5-f761-bb3d02781e6b"
      },
      "execution_count": 143,
      "outputs": [
        {
          "output_type": "stream",
          "name": "stdout",
          "text": [
            "[5, 5, 5, 5, 5, 5, 5, 5, 5, 5]\n"
          ]
        }
      ]
    },
    {
      "cell_type": "code",
      "source": [
        "def even_num(p):\n",
        "\n",
        "  ### Create an array of all the even integers from 10 to 50\n",
        "  ### Convert your output into list \n",
        "  ### e.g return list(arr) \n",
        "  p= (np.arange(10,51))\n",
        "  arr= filter(lambda item: item%2 == 0,p)\n",
        "  return list(arr)\n",
        "\n",
        "\n"
      ],
      "metadata": {
        "id": "PtAZ8LR-NT7C"
      },
      "execution_count": 163,
      "outputs": []
    },
    {
      "cell_type": "code",
      "source": [
        "\n",
        "print( even_num(p))"
      ],
      "metadata": {
        "colab": {
          "base_uri": "https://localhost:8080/"
        },
        "id": "tFY-VmfVN05O",
        "outputId": "f6e2e72d-db0a-47eb-f5a5-57fa75146a16"
      },
      "execution_count": 165,
      "outputs": [
        {
          "output_type": "stream",
          "name": "stdout",
          "text": [
            "[10, 12, 14, 16, 18, 20, 22, 24, 26, 28, 30, 32, 34, 36, 38, 40, 42, 44, 46, 48, 50]\n"
          ]
        }
      ]
    },
    {
      "cell_type": "code",
      "source": [
        "def create_matrix():\n",
        "\n",
        "  ### Create a 3x3 matrix with values ranging from 0 to 8\n",
        "  ### Convert your output into list \n",
        "  ### e.g return (arr).tolist()\n",
        "  arr = np.arange(0,9).reshape(3,3)\n",
        "\n",
        "  return (arr).tolist()"
      ],
      "metadata": {
        "id": "0awhCOthewQU"
      },
      "execution_count": 168,
      "outputs": []
    },
    {
      "cell_type": "code",
      "source": [
        "print(create_matrix())"
      ],
      "metadata": {
        "colab": {
          "base_uri": "https://localhost:8080/"
        },
        "id": "LPt3Ee7OfRM_",
        "outputId": "23b948c2-18bc-4593-b669-21a6e76c01e5"
      },
      "execution_count": 170,
      "outputs": [
        {
          "output_type": "stream",
          "name": "stdout",
          "text": [
            "[[0, 1, 2], [3, 4, 5], [6, 7, 8]]\n"
          ]
        }
      ]
    },
    {
      "cell_type": "code",
      "source": [
        "def linear_space():\n",
        "\n",
        "  ### Create an array of 20 linearly spaced points between 0 and 1\n",
        "  ### Convert your output into list \n",
        "  ### e.g return list(arr) \n",
        "  arr = np.linspace(0,1,20)\n",
        "  return list(arr)"
      ],
      "metadata": {
        "id": "0Mav-9tmfp4o"
      },
      "execution_count": 171,
      "outputs": []
    },
    {
      "cell_type": "code",
      "source": [
        "print(linear_space())"
      ],
      "metadata": {
        "colab": {
          "base_uri": "https://localhost:8080/"
        },
        "id": "SxpJaKKDgfoy",
        "outputId": "6aa0f195-e816-429e-dd7c-9003a83c7b4c"
      },
      "execution_count": 173,
      "outputs": [
        {
          "output_type": "stream",
          "name": "stdout",
          "text": [
            "[0.0, 0.05263157894736842, 0.10526315789473684, 0.15789473684210525, 0.21052631578947367, 0.2631578947368421, 0.3157894736842105, 0.3684210526315789, 0.42105263157894735, 0.47368421052631576, 0.5263157894736842, 0.5789473684210527, 0.631578947368421, 0.6842105263157894, 0.7368421052631579, 0.7894736842105263, 0.8421052631578947, 0.894736842105263, 0.9473684210526315, 1.0]\n"
          ]
        }
      ]
    },
    {
      "cell_type": "code",
      "source": [
        "def decimal_mat():\n",
        "\n",
        "  ### Create an array of size 10*10 consisting of numbers from 0.01 to 1\n",
        "  ### Convert your output into list \n",
        "  ### e.g return (arr).tolist()\n",
        "  arr= np.linspace(0.01,1,100).reshape(10,10)\n",
        "  return arr.tolist()"
      ],
      "metadata": {
        "id": "G2VoQctWg5mX"
      },
      "execution_count": 175,
      "outputs": []
    },
    {
      "cell_type": "code",
      "source": [
        "\n",
        "print(decimal_mat())"
      ],
      "metadata": {
        "colab": {
          "base_uri": "https://localhost:8080/"
        },
        "id": "W1pMNzkMhjdL",
        "outputId": "33379369-c88d-4451-f9f1-231ca812cfe4"
      },
      "execution_count": 177,
      "outputs": [
        {
          "output_type": "stream",
          "name": "stdout",
          "text": [
            "[[0.01, 0.02, 0.03, 0.04, 0.05, 0.060000000000000005, 0.06999999999999999, 0.08, 0.09, 0.09999999999999999], [0.11, 0.12, 0.13, 0.14, 0.15000000000000002, 0.16, 0.17, 0.18000000000000002, 0.19, 0.2], [0.21000000000000002, 0.22, 0.23, 0.24000000000000002, 0.25, 0.26, 0.27, 0.28, 0.29000000000000004, 0.3], [0.31, 0.32, 0.33, 0.34, 0.35000000000000003, 0.36000000000000004, 0.37, 0.38, 0.39, 0.4], [0.41000000000000003, 0.42000000000000004, 0.43, 0.44, 0.45, 0.46, 0.47000000000000003, 0.48000000000000004, 0.49, 0.5], [0.51, 0.52, 0.53, 0.54, 0.55, 0.56, 0.5700000000000001, 0.5800000000000001, 0.59, 0.6], [0.61, 0.62, 0.63, 0.64, 0.65, 0.66, 0.67, 0.68, 0.6900000000000001, 0.7000000000000001], [0.7100000000000001, 0.72, 0.73, 0.74, 0.75, 0.76, 0.77, 0.78, 0.79, 0.8], [0.81, 0.8200000000000001, 0.8300000000000001, 0.8400000000000001, 0.85, 0.86, 0.87, 0.88, 0.89, 0.9], [0.91, 0.92, 0.93, 0.9400000000000001, 0.9500000000000001, 0.9600000000000001, 0.97, 0.98, 0.99, 1.0]]\n"
          ]
        }
      ]
    },
    {
      "cell_type": "code",
      "source": [
        "def slices_1():\n",
        "\n",
        "  # This is a given array\n",
        "  arr = np.arange(1,26).reshape(5,5)\n",
        "  # array([[ 1,  2,  3,  4,  5],\n",
        "  #      [ 6,  7,  8,  9, 10],\n",
        "  #      [11, 12, 13, 14, 15],\n",
        "  #      [16, 17, 18, 19, 20],\n",
        "  #      [21, 22, 23, 24, 25]])\n",
        "\n",
        "  # Write a code to slice this given array\n",
        "  ### Convert your output into list \n",
        "  q = arr[ 2: , 1: ]\n",
        "  ### e.g return (arr).tolist()\n",
        "  # array([[12, 13, 14, 15],\n",
        "  #      [17, 18, 19, 20],\n",
        "  #      [22, 23, 24, 25]])\n",
        "\n",
        "  return (q).tolist()"
      ],
      "metadata": {
        "id": "S6NDDR3zh4s9"
      },
      "execution_count": 185,
      "outputs": []
    },
    {
      "cell_type": "code",
      "source": [
        "print(slices_1())"
      ],
      "metadata": {
        "colab": {
          "base_uri": "https://localhost:8080/"
        },
        "id": "EYqG_MbzkiVX",
        "outputId": "e6fac7cc-1293-404c-f8dd-1e93125c70eb"
      },
      "execution_count": 186,
      "outputs": [
        {
          "output_type": "stream",
          "name": "stdout",
          "text": [
            "[[12, 13, 14, 15], [17, 18, 19, 20], [22, 23, 24, 25]]\n"
          ]
        }
      ]
    },
    {
      "cell_type": "code",
      "source": [
        "def slices_2():\n",
        "\n",
        "  # This is a given array\n",
        "  arr = np.arange(1,26).reshape(5,5)\n",
        "  # array([[ 1,  2,  3,  4,  5],\n",
        "  #      [ 6,  7,  8,  9, 10],\n",
        "  #      [11, 12, 13, 14, 15],\n",
        "  #      [16, 17, 18, 19, 20],\n",
        "  #      [21, 22, 23, 24, 25]])\n",
        "  r = arr[ :3 , 1:2 ]\n",
        "  # Write a code to slice this given array\n",
        "  ### Convert your output into list \n",
        "  ### e.g return (arr).tolist()\n",
        "  # array([[ 2],\n",
        "  #      [ 7],\n",
        "  #      [12]])\n",
        "\n",
        "  return (r).tolist()\n",
        "  "
      ],
      "metadata": {
        "id": "fuYC7ZSnmDLX"
      },
      "execution_count": 188,
      "outputs": []
    },
    {
      "cell_type": "code",
      "source": [
        "print(slices_2())"
      ],
      "metadata": {
        "colab": {
          "base_uri": "https://localhost:8080/"
        },
        "id": "miLIlbH7sBMr",
        "outputId": "00c903c5-5482-44b7-9e5e-246229370891"
      },
      "execution_count": 189,
      "outputs": [
        {
          "output_type": "stream",
          "name": "stdout",
          "text": [
            "[[2], [7], [12]]\n"
          ]
        }
      ]
    },
    {
      "cell_type": "code",
      "source": [
        "def slices_3():\n",
        "\n",
        "  # This is a given array\n",
        "  arr = np.arange(1,26).reshape(5,5)\n",
        "  # array([[ 1,  2,  3,  4,  5],\n",
        "  #      [ 6,  7,  8,  9, 10],\n",
        "  #      [11, 12, 13, 14, 15],\n",
        "  #      [16, 17, 18, 19, 20],\n",
        "  #      [21, 22, 23, 24, 25]])\n",
        "  w = arr[ 3: , :5 ]\n",
        "  # Write a code to slice this given array\n",
        "  ### Convert your output into list \n",
        "  ### e.g return (arr).tolist()\n",
        "  # array([[16, 17, 18, 19, 20],\n",
        "  #      [21, 22, 23, 24, 25]])\n",
        "\n",
        "  return (w).tolist()\n",
        "\n",
        "\n",
        "# Great job!"
      ],
      "metadata": {
        "id": "7zR_rMUCsMNh"
      },
      "execution_count": 191,
      "outputs": []
    },
    {
      "cell_type": "code",
      "source": [
        "print(slices_3())"
      ],
      "metadata": {
        "colab": {
          "base_uri": "https://localhost:8080/"
        },
        "id": "oj8oNIL5tC0P",
        "outputId": "6ec56bde-670d-4ec3-a159-54121cc94215"
      },
      "execution_count": 193,
      "outputs": [
        {
          "output_type": "stream",
          "name": "stdout",
          "text": [
            "[[16, 17, 18, 19, 20], [21, 22, 23, 24, 25]]\n"
          ]
        }
      ]
    },
    {
      "cell_type": "code",
      "source": [
        "# it was fun really enjoyed !! :))"
      ],
      "metadata": {
        "id": "1mczg8UYtL1d"
      },
      "execution_count": 194,
      "outputs": []
    }
  ]
}